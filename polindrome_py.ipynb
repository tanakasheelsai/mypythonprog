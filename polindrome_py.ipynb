{
  "nbformat": 4,
  "nbformat_minor": 0,
  "metadata": {
    "colab": {
      "name": "polindrome.py",
      "provenance": [],
      "authorship_tag": "ABX9TyOqo5Ct6FsQJDoGK8ZJ/kZi",
      "include_colab_link": true
    },
    "kernelspec": {
      "name": "python3",
      "display_name": "Python 3"
    }
  },
  "cells": [
    {
      "cell_type": "markdown",
      "metadata": {
        "id": "view-in-github",
        "colab_type": "text"
      },
      "source": [
        "<a href=\"https://colab.research.google.com/github/tanakasheelsai/mypythonprog/blob/master/polindrome_py.ipynb\" target=\"_parent\"><img src=\"https://colab.research.google.com/assets/colab-badge.svg\" alt=\"Open In Colab\"/></a>"
      ]
    },
    {
      "cell_type": "code",
      "metadata": {
        "id": "7nftDFkUKD80",
        "colab_type": "code",
        "colab": {
          "base_uri": "https://localhost:8080/",
          "height": 51
        },
        "outputId": "78a1a807-5bc3-49aa-bf0f-790ca80ad3b0"
      },
      "source": [
        "n=int(input(\"Enter number:\"))\n",
        "temp=n\n",
        "rev=0\n",
        "while(n>0):\n",
        "    dig=n%10\n",
        "    rev=rev*10+dig\n",
        "    n=n//10\n",
        "if(temp==rev):\n",
        "    print(\"The number is a palindrome!\")\n",
        "else:\n",
        "    print(\"The number isn't a palindrome!\")"
      ],
      "execution_count": 1,
      "outputs": [
        {
          "output_type": "stream",
          "text": [
            "Enter number:12321\n",
            "The number is a palindrome!\n"
          ],
          "name": "stdout"
        }
      ]
    }
  ]
}